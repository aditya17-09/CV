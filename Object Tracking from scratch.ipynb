{
 "cells": [
  {
   "cell_type": "code",
   "execution_count": 13,
   "id": "684bce6b",
   "metadata": {},
   "outputs": [],
   "source": [
    "import cv2 as cv\n"
   ]
  },
  {
   "cell_type": "code",
   "execution_count": null,
   "id": "f4ad82a8",
   "metadata": {},
   "outputs": [],
   "source": [
    "cap=cv.VideoCapture(0,cv2.CAP_DSHOW)\n",
    "while cap.isOpened():\n",
    "    ret, frame=cap.read()\n",
    "    if ret==True:\n",
    "        frame=cv.resize(frame,(800,800))\n",
    "        cv.imshow('frame',frame)\n",
    "        if cv.waitKey(1) & 0xFF == ord('q'):\n",
    "            break\n",
    "cap.release()\n",
    "cv.destroyAllWindows()\n"
   ]
  },
  {
   "cell_type": "code",
   "execution_count": 16,
   "id": "571a85cc",
   "metadata": {},
   "outputs": [
    {
     "name": "stdout",
     "output_type": "stream",
     "text": [
      "check=== True\n"
     ]
    }
   ],
   "source": [
    "cap = cv2.VideoCapture(0,cv2.CAP_DSHOW)   #Here parameter 0 is a path of any video use for webcam\n",
    "print(\"check===\",cap.isOpened())\n",
    "\n",
    "#it is 4 byte code which is use to specify the video codec\n",
    "#Various codec -- \n",
    "#DIVX, XVID, MJPG, X264, WMV1, WMV2\n",
    "fourcc = cv2.VideoWriter_fourcc(*\"XVID\")  # *\"XVID\"\n",
    "#It contain 4 parameter , name, codec,fps,resolution\n",
    "output = cv2.VideoWriter(\"output.avi\",fourcc,20.0,(640,480),0)\n",
    "\n",
    "while(cap.isOpened()):\n",
    "    ret, frame = cap.read()   #here read the frame\n",
    "    \n",
    "    if ret==True:\n",
    "        \n",
    "        gray  = cv2.cvtColor(frame,cv2.COLOR_BGR2GRAY)\n",
    "        #here flip is used to lip the video at recording time\n",
    "        frame = cv2.flip(frame,0)\n",
    "        output.write(gray)\n",
    "        \n",
    "        cv2.imshow(\"Gray Frame\",gray)\n",
    "        cv2.imshow('Colorframe',frame)\n",
    "        if cv2.waitKey(1) & 0xFF == ord('q'):   #press to exit\n",
    "            break\n",
    "    else:\n",
    "        break\n",
    " \n",
    "# Release everything if job is finished\n",
    "cap.release()\n",
    "output.release()\n",
    "cv2.destroyAllWindows()\n"
   ]
  },
  {
   "cell_type": "code",
   "execution_count": null,
   "id": "9bf6ea3f",
   "metadata": {},
   "outputs": [],
   "source": []
  }
 ],
 "metadata": {
  "kernelspec": {
   "display_name": "Python 3 (ipykernel)",
   "language": "python",
   "name": "python3"
  },
  "language_info": {
   "codemirror_mode": {
    "name": "ipython",
    "version": 3
   },
   "file_extension": ".py",
   "mimetype": "text/x-python",
   "name": "python",
   "nbconvert_exporter": "python",
   "pygments_lexer": "ipython3",
   "version": "3.9.13"
  }
 },
 "nbformat": 4,
 "nbformat_minor": 5
}
