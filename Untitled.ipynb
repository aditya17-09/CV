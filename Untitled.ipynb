{
 "cells": [
  {
   "cell_type": "code",
   "execution_count": 2,
   "id": "19a8f45b",
   "metadata": {
    "id": "19a8f45b"
   },
   "outputs": [],
   "source": [
    "import cv2 as cv\n",
    "import numpy as np\n",
    "# from google.colab.patches import cv2_imshow as cv_imshow"
   ]
  },
  {
   "cell_type": "code",
   "execution_count": 2,
   "id": "OHOEseiaDp5a",
   "metadata": {
    "colab": {
     "base_uri": "https://localhost:8080/",
     "height": 546
    },
    "id": "OHOEseiaDp5a",
    "outputId": "4af2bd4a-3611-4859-9a4e-a10bd086f484"
   },
   "outputs": [
    {
     "name": "stdout",
     "output_type": "stream",
     "text": [
      "(512, 512)\n"
     ]
    }
   ],
   "source": [
    "img=np.zeros([512,512],np.uint8)\n",
    "print(img.shape)\n",
    "cv.imshow(\"image\",img)\n",
    "cv.waitKey(0)\n",
    "cv.destroyAllWindows()"
   ]
  },
  {
   "cell_type": "code",
   "execution_count": 3,
   "id": "5ec13916",
   "metadata": {
    "id": "5ec13916",
    "outputId": "83fa96c9-ff85-44d1-d94e-39f6a38858aa"
   },
   "outputs": [
    {
     "data": {
      "text/plain": [
       "'img=cv.imread(r\"E:\\thor2.jpg\",-1)\\nimg=cv.resize(img,(400,800))\\n# img=cv.arrowedLine(img,(20,20),(150,240),(214,129,27),1)\\n# font=cv.FONT_ITLAIC\\n# img=cv.putText(img,\\'The Thor\\',(200,250),font,4,(0,12,34),10,cv.LINE_AA)\\n\\n\\n'"
      ]
     },
     "execution_count": 3,
     "metadata": {},
     "output_type": "execute_result"
    }
   ],
   "source": [
    "\"\"\"img=cv.imread(r\"E:\\thor2.jpg\",-1)\n",
    "img=cv.resize(img,(400,800))\n",
    "# img=cv.arrowedLine(img,(20,20),(150,240),(214,129,27),1)\n",
    "# font=cv.FONT_ITLAIC\n",
    "# img=cv.putText(img,'The Thor',(200,250),font,4,(0,12,34),10,cv.LINE_AA)\n",
    "\n",
    "\n",
    "\"\"\""
   ]
  },
  {
   "cell_type": "code",
   "execution_count": 4,
   "id": "906b0035",
   "metadata": {
    "id": "906b0035",
    "outputId": "405b647a-a0fc-4264-d978-492400bbddaa"
   },
   "outputs": [
    {
     "data": {
      "text/plain": [
       "'def draw (event,x,y,flags,param):\\n    if event==cv.EVENT_LBUTTONDBLCLK:\\n        cord=str(x)+\\',\\'+str(y)+\",\"+str(flags)+\",\"+str(param)\\n        font=cv.FONT_HERSHEY_SIMPLEX\\n        cv.putText(img,cord,(x,y),font,1,(255,255,1))\\n      \\ncv.namedWindow(\"res\")\\nimg=np.zeros([1000,600,3],np.uint8)\\ncv.setMouseCallback(\"res\",draw)\\n\\n\\nwhile True:    #use while loop because we read images frame by frame\\n    cv.imshow(\"res\",img)\\n    if cv.waitKey(10) & 0xFF==27:\\n        break\\ncv.destroyAllWindows()\\n'"
      ]
     },
     "execution_count": 4,
     "metadata": {},
     "output_type": "execute_result"
    }
   ],
   "source": [
    "\"\"\"def draw (event,x,y,flags,param):\n",
    "    if event==cv.EVENT_LBUTTONDBLCLK:\n",
    "        cord=str(x)+','+str(y)+\",\"+str(flags)+\",\"+str(param)\n",
    "        font=cv.FONT_HERSHEY_SIMPLEX\n",
    "        cv.putText(img,cord,(x,y),font,1,(255,255,1))\n",
    "      \n",
    "cv.namedWindow(\"res\")\n",
    "img=np.zeros([1000,600,3],np.uint8)\n",
    "cv.setMouseCallback(\"res\",draw)\n",
    "\n",
    "\n",
    "while True:    #use while loop because we read images frame by frame\n",
    "    cv.imshow(\"res\",img)\n",
    "    if cv.waitKey(10) & 0xFF==27:\n",
    "        break\n",
    "cv.destroyAllWindows()\n",
    "\"\"\""
   ]
  },
  {
   "cell_type": "code",
   "execution_count": 5,
   "id": "640d19dc",
   "metadata": {
    "id": "640d19dc",
    "outputId": "3ad7fb5f-0218-4b1c-fbda-db103347da19"
   },
   "outputs": [
    {
     "data": {
      "text/plain": [
       "'\\ndef draw (event,x,y,flags,param):\\n    if event==cv.EVENT_LBUTTONDBLCLK:\\n#         print(x,\",\",y)\\n#         print(flags)\\n#         print(param)\\n        cord=str(x)+\\',\\'+str(y)+\",\"+str(flags)+\",\"+str(param)\\n        font=cv.FONT_HERSHEY_SIMPLEX\\n        cv.putText(img,cord,(x,y),font,1,(255,255,1))\\n        cv.imshow(\\'image\\',img)\\n\\nimg=np.zeros([1000,600,3],np.uint8)\\ncv.imshow(\"image\",img)\\ncv.setMouseCallback(\"image\",draw)\\ncv.waitKey(0)\\n\\n\\ncv.destroyAllWindows()\\n'"
      ]
     },
     "execution_count": 5,
     "metadata": {},
     "output_type": "execute_result"
    }
   ],
   "source": [
    "\"\"\"\n",
    "def draw (event,x,y,flags,param):\n",
    "    if event==cv.EVENT_LBUTTONDBLCLK:\n",
    "#         print(x,\",\",y)\n",
    "#         print(flags)\n",
    "#         print(param)\n",
    "        cord=str(x)+','+str(y)+\",\"+str(flags)+\",\"+str(param)\n",
    "        font=cv.FONT_HERSHEY_SIMPLEX\n",
    "        cv.putText(img,cord,(x,y),font,1,(255,255,1))\n",
    "        cv.imshow('image',img)\n",
    "\n",
    "img=np.zeros([1000,600,3],np.uint8)\n",
    "cv.imshow(\"image\",img)\n",
    "cv.setMouseCallback(\"image\",draw)\n",
    "cv.waitKey(0)\n",
    "\n",
    "\n",
    "cv.destroyAllWindows()\n",
    "\"\"\""
   ]
  },
  {
   "cell_type": "code",
   "execution_count": 6,
   "id": "93f4ae51",
   "metadata": {
    "id": "93f4ae51",
    "outputId": "6dedba7f-ab3a-47a5-e58c-605de132581b"
   },
   "outputs": [
    {
     "data": {
      "text/plain": [
       "'img=cv.imread(r\"E:\\thor2.jpg\",1)\\nimg=cv.arrowedLine(img,(20,20),(150,240),(214,129,27),1)\\ncv.namedWindow(\"image\",cv.WINDOW_AUTOSIZE)\\n\\ncv.imshow(\"image\",img)\\ncv.waitKey(0)\\ncv.destroyAllWindows()'"
      ]
     },
     "execution_count": 6,
     "metadata": {},
     "output_type": "execute_result"
    }
   ],
   "source": [
    "\"\"\"img=cv.imread(r\"E:\\thor2.jpg\",1)\n",
    "img=cv.arrowedLine(img,(20,20),(150,240),(214,129,27),1)\n",
    "cv.namedWindow(\"image\",cv.WINDOW_AUTOSIZE)\n",
    "\n",
    "cv.imshow(\"image\",img)\n",
    "cv.waitKey(0)\n",
    "cv.destroyAllWindows()\"\"\""
   ]
  },
  {
   "cell_type": "code",
   "execution_count": 7,
   "id": "e4b99775",
   "metadata": {
    "colab": {
     "base_uri": "https://localhost:8080/",
     "height": 235
    },
    "id": "e4b99775",
    "outputId": "40c9c87f-b46e-444c-aeb1-9586fe16a1cd"
   },
   "outputs": [
    {
     "ename": "error",
     "evalue": "OpenCV(4.7.0) D:\\a\\opencv-python\\opencv-python\\opencv\\modules\\highgui\\src\\window_w32.cpp:2576: error: (-27:Null pointer) NULL window: 'image' in function 'cvGetTrackbarPos'\n",
     "output_type": "error",
     "traceback": [
      "\u001B[1;31m---------------------------------------------------------------------------\u001B[0m",
      "\u001B[1;31merror\u001B[0m                                     Traceback (most recent call last)",
      "\u001B[1;32m~\\AppData\\Local\\Temp\\ipykernel_2756\\3456638895.py\u001B[0m in \u001B[0;36m<module>\u001B[1;34m\u001B[0m\n\u001B[0;32m     14\u001B[0m     \u001B[1;32mif\u001B[0m \u001B[0mk\u001B[0m\u001B[1;33m==\u001B[0m\u001B[1;36m27\u001B[0m\u001B[1;33m:\u001B[0m\u001B[1;33m\u001B[0m\u001B[1;33m\u001B[0m\u001B[0m\n\u001B[0;32m     15\u001B[0m         \u001B[1;32mbreak\u001B[0m\u001B[1;33m\u001B[0m\u001B[1;33m\u001B[0m\u001B[0m\n\u001B[1;32m---> 16\u001B[1;33m     \u001B[0ms\u001B[0m\u001B[1;33m=\u001B[0m\u001B[0mcv\u001B[0m\u001B[1;33m.\u001B[0m\u001B[0mgetTrackbarPos\u001B[0m\u001B[1;33m(\u001B[0m\u001B[0ms1\u001B[0m\u001B[1;33m,\u001B[0m\u001B[1;34m\"image\"\u001B[0m\u001B[1;33m)\u001B[0m\u001B[1;33m\u001B[0m\u001B[1;33m\u001B[0m\u001B[0m\n\u001B[0m\u001B[0;32m     17\u001B[0m     \u001B[0mr\u001B[0m\u001B[1;33m=\u001B[0m\u001B[0mcv\u001B[0m\u001B[1;33m.\u001B[0m\u001B[0mgetTrackbarPos\u001B[0m\u001B[1;33m(\u001B[0m\u001B[1;34m\"R\"\u001B[0m\u001B[1;33m,\u001B[0m\u001B[1;34m\"image\"\u001B[0m\u001B[1;33m)\u001B[0m\u001B[1;33m\u001B[0m\u001B[1;33m\u001B[0m\u001B[0m\n\u001B[0;32m     18\u001B[0m     \u001B[0mg\u001B[0m\u001B[1;33m=\u001B[0m\u001B[0mcv\u001B[0m\u001B[1;33m.\u001B[0m\u001B[0mgetTrackbarPos\u001B[0m\u001B[1;33m(\u001B[0m\u001B[1;34m\"G\"\u001B[0m\u001B[1;33m,\u001B[0m\u001B[1;34m\"image\"\u001B[0m\u001B[1;33m)\u001B[0m\u001B[1;33m\u001B[0m\u001B[1;33m\u001B[0m\u001B[0m\n",
      "\u001B[1;31merror\u001B[0m: OpenCV(4.7.0) D:\\a\\opencv-python\\opencv-python\\opencv\\modules\\highgui\\src\\window_w32.cpp:2576: error: (-27:Null pointer) NULL window: 'image' in function 'cvGetTrackbarPos'\n"
     ]
    }
   ],
   "source": [
    "def cross(x):\n",
    "    pass\n",
    "img=np.zeros([1000,600,3],np.uint8)\n",
    "cv.namedWindow(\"image\")\n",
    "s1=\"0:OFF\\n1:ON\"\n",
    "\n",
    "cv.createTrackbar(s1,\"image\",0,1,cross)\n",
    "cv.createTrackbar(\"R\",\"image\",0,255,cross)\n",
    "cv.createTrackbar(\"G\",\"image\",0,255,cross)\n",
    "cv.createTrackbar(\"B\",\"image\",0,255,cross)\n",
    "while True:\n",
    "    cv.imshow(\"image\",img)\n",
    "    k= cv.waitKey(10) & 0xFF\n",
    "    if k==27:\n",
    "        break\n",
    "    s=cv.getTrackbarPos(s1,\"image\")\n",
    "    r=cv.getTrackbarPos(\"R\",\"image\")\n",
    "    g=cv.getTrackbarPos(\"G\",\"image\")\n",
    "    b=cv.getTrackbarPos(\"B\",\"image\")\n",
    "    \n",
    "   \n",
    "    if s==0:\n",
    "        img[:]=0\n",
    "    if s==1:\n",
    "        img[:]=[r,g,b]\n",
    "    \n",
    "cv.destroyAllWindows()"
   ]
  },
  {
   "cell_type": "markdown",
   "id": "StiDFOL5F6jR",
   "metadata": {
    "id": "StiDFOL5F6jR"
   },
   "source": []
  },
  {
   "cell_type": "code",
   "execution_count": null,
   "id": "626c9395",
   "metadata": {
    "id": "626c9395",
    "outputId": "bb66282f-bbb3-454a-9783-1a545df07e0e"
   },
   "outputs": [],
   "source": [
    "img=cv.imread(r\"E:\\thor2.jpg\",1)\n",
    "img2=cv.imread(r\"E:\\thor.jpeg\",1)\n",
    "img=cv.resize(img,(400,800))\n",
    "img2=cv.resize(img2,(400,800))\n",
    "cv.imshow(\"image\",cv.add(img,img2))\n",
    "cv.waitKey(0)\n",
    "cv.destroyAllWindows()\n",
    "print(img.shape,img.size,type(img),img.dtype)"
   ]
  },
  {
   "cell_type": "code",
   "execution_count": null,
   "id": "769a5ff8",
   "metadata": {
    "id": "769a5ff8",
    "outputId": "124ad6ca-bfb5-44ad-e471-1b7e21daf3e2"
   },
   "outputs": [],
   "source": [
    "print(img[256,45])"
   ]
  },
  {
   "cell_type": "code",
   "execution_count": null,
   "id": "f3c93bd6",
   "metadata": {
    "id": "f3c93bd6"
   },
   "outputs": [],
   "source": [
    "def cross(x):\n",
    "    pass\n",
    "img=np.zeros([400,800],np.uint8)\n",
    "img1=cv.imread(r\"C:\\Users\\gauta\\Downloads\\10846278.jpg\")\n",
    "img2=cv.imread(r\"C:\\Users\\gauta\\Downloads\\699885.webp\")\n",
    "img1=cv.resize(img1,(400,800))\n",
    "img2=cv.resize(img2,(400,800))\n",
    "img=cv.resize(img,(400,800))\n",
    "s1=\"0:OFF\\n1:ON\"\n",
    "cv.namedWindow(\"new\")\n",
    "cv.createTrackbar(s1,\"new\",0,1,cross)\n",
    "cv.createTrackbar(\"X\",\"new\",0,100,cross)\n",
    "\n",
    "\n",
    "\n",
    "while True:\n",
    "    s=cv.getTrackbarPos(s1,\"new\")\n",
    "    value=cv.getTrackbarPos(\"X\",\"new\")\n",
    "    n=float(value/100)\n",
    "    \n",
    "    \n",
    "    \n",
    "    if s==0:\n",
    "        dst=img\n",
    "\n",
    "    if s==1:\n",
    "        dst=cv.addWeighted(img1,n,img2,1-n,0)\n",
    "        \n",
    "    cv.imshow('new',dst)\n",
    "    k= cv.waitKey(10) & 0xFF\n",
    "    if k==27:\n",
    "        break\n",
    "    \n",
    "cv.waitKey(0)\n",
    "cv.destroyAllWindows()"
   ]
  },
  {
   "cell_type": "code",
   "execution_count": null,
   "id": "e655228e",
   "metadata": {
    "id": "e655228e"
   },
   "outputs": [],
   "source": [
    "def cross(x):\n",
    "    pass\n",
    "img=np.zeros([1000,600,3],np.uint8)\n",
    "cv.namedWindow(\"image\")\n",
    "s1=\"0:OFF\\n1:ON\"\n",
    "\n",
    "cv.createTrackbar(s1,\"image\",0,1,cross)\n",
    "cv.createTrackbar(\"R\",\"image\",0,255,cross)\n",
    "cv.createTrackbar(\"G\",\"image\",0,255,cross)\n",
    "cv.createTrackbar(\"B\",\"image\",0,255,cross)\n",
    "while True:\n",
    "    cv.imshow(\"image\",img)\n",
    "   \n",
    "    s=cv.getTrackbarPos(s1,\"image\")\n",
    "    r=cv.getTrackbarPos(\"R\",\"image\")\n",
    "    g=cv.getTrackbarPos(\"G\",\"image\")\n",
    "    b=cv.getTrackbarPos(\"B\",\"image\")\n",
    "    \n",
    "   \n",
    "    if s==0:\n",
    "        img[:]=0\n",
    "    if s==1:\n",
    "        img[:]=[r,g,b]\n",
    "    k= cv.waitKey(10) & 0xFF\n",
    "    if k==27:\n",
    "        break\n",
    "    \n",
    "cv.destroyAllWindows()"
   ]
  },
  {
   "cell_type": "code",
   "execution_count": null,
   "id": "4425c491",
   "metadata": {
    "id": "4425c491"
   },
   "outputs": [],
   "source": [
    "def cross(x):\n",
    "    pass\n",
    "img=np.zeros((500,300),np.uint8)\n",
    "img=cv.resize(img,(400,200))\n",
    "cv.namedWindow(\"image\")\n",
    "s1=\"0:OFF\\n1:ON\"\n",
    "\n",
    "cv.createTrackbar(s1,\"image\",0,1,cross)\n",
    "cv.createTrackbar(\"LH\",\"image\",0,255,cross)\n",
    "cv.createTrackbar(\"LS\",\"image\",0,255,cross)\n",
    "cv.createTrackbar(\"LV\",\"image\",0,255,cross)\n",
    "\n",
    "cv.createTrackbar(\"UH\",\"image\",255,255,cross)\n",
    "cv.createTrackbar(\"US\",\"image\",255,255,cross)\n",
    "cv.createTrackbar(\"UV\",\"image\",255,255,cross)\n",
    "\n",
    "img1=cv.imread(r\"C:\\Users\\gauta\\Pictures\\updated.jpg\",1)\n",
    "img1=cv.resize(img1,(500,600))\n",
    "while True:\n",
    "    hsv=cv.cvtColor(img1,cv.COLOR_BGR2HSV)\n",
    "    s=cv.getTrackbarPos(s1,\"image\")\n",
    "    lh=cv.getTrackbarPos(\"LH\",\"image\")\n",
    "    ls=cv.getTrackbarPos(\"LS\",\"image\")\n",
    "    lv=cv.getTrackbarPos(\"LV\",\"image\")\n",
    "    \n",
    "    uh=cv.getTrackbarPos(\"UH\",\"image\")\n",
    "    us=cv.getTrackbarPos(\"US\",\"image\")\n",
    "    uv=cv.getTrackbarPos(\"UV\",\"image\")\n",
    "    \n",
    "    \n",
    "    u_v=np.array([uh,us,uv])\n",
    "    l_v=np.array([lh,ls,lv])\n",
    "    mask=cv.inRange(hsv,l_v,u_v)\n",
    "    \n",
    "    if s==0:\n",
    "        img[:]=0\n",
    "    if s==1:\n",
    "        \n",
    "        cv.imshow(\"hsv\",cv.bitwise_and(img1,img1,mask=mask))\n",
    "        cv.imshow(\"mask\",mask)\n",
    "        \n",
    "   \n",
    "#     cv.imshow(\"real\",img1)\n",
    "    \n",
    "    k= cv.waitKey(10) & 0xFF\n",
    "    if k==27:\n",
    "        break\n",
    "# cv.waitKey(0)\n",
    "cv.destroyAllWindows()"
   ]
  },
  {
   "cell_type": "code",
   "execution_count": null,
   "id": "40d3ead4",
   "metadata": {
    "id": "40d3ead4"
   },
   "outputs": [],
   "source": [
    "def cross(x):\n",
    "    pass\n",
    "camera=\"http://192.168.35.4:8080/video\"\n",
    "#connect laptop and android device with same network either wifi\n",
    "cap=cv.VideoCapture(0)\n",
    "cap.open(camera)\n",
    "fourcc=cv.VideoWriter_fourcc(*\"XVID\")\n",
    "output=cv.VideoWriter(\"output.avi\",fourcc,20.0,(640,480),0)\n",
    "cv.namedWindow(\"image\")\n",
    "s1=\"0:OFF\\n1:ON\"\n",
    "\n",
    "cv.createTrackbar(s1,\"image\",0,1,cross)\n",
    "cv.createTrackbar(\"LH\",\"image\",0,255,cross)\n",
    "cv.createTrackbar(\"LS\",\"image\",0,255,cross)\n",
    "cv.createTrackbar(\"LV\",\"image\",0,255,cross)\n",
    "\n",
    "cv.createTrackbar(\"UH\",\"image\",255,255,cross)\n",
    "cv.createTrackbar(\"US\",\"image\",255,255,cross)\n",
    "cv.createTrackbar(\"UV\",\"image\",255,255,cross)\n",
    "img=np.zeros([1000,600,3],np.uint8)\n",
    "img=cv.resize(img,(400,400))\n",
    "\n",
    "\n",
    "while (cap.isOpened()):\n",
    "    ret,frame=cap.read()\n",
    "    frame=cv.resize(frame,(400,400))\n",
    "    \n",
    "    hsv=cv.cvtColor(frame,cv.COLOR_BGR2HSV)\n",
    "    s=cv.getTrackbarPos(s1,\"image\")\n",
    "    lh=cv.getTrackbarPos(\"LH\",\"image\")\n",
    "    ls=cv.getTrackbarPos(\"LS\",\"image\")\n",
    "    lv=cv.getTrackbarPos(\"LV\",\"image\")\n",
    "    \n",
    "    uh=cv.getTrackbarPos(\"UH\",\"image\")\n",
    "    us=cv.getTrackbarPos(\"US\",\"image\")\n",
    "    uv=cv.getTrackbarPos(\"UV\",\"image\")\n",
    "    \n",
    "    \n",
    "    u_v=np.array([uh,us,uv])\n",
    "    l_v=np.array([lh,ls,lv])\n",
    "    mask=cv.inRange(hsv,l_v,u_v)\n",
    "    \n",
    "    if ret == True:\n",
    "        if s==0:\n",
    "            img[:]=0\n",
    "            cv.imshow(\"image\",img)\n",
    "        if s==1:\n",
    "            \n",
    "        \n",
    "            cv.imshow(\"image\",frame)\n",
    "            rel=cv.bitwise_and(frame,frame,mask=mask)\n",
    "            cv.imshow(\"hsv\",rel)\n",
    "            cv.imshow(\"mask\",mask)\n",
    "        k= cv.waitKey(10) & 0xFF\n",
    "        if k==27:\n",
    "            break\n",
    "cap.release()\n",
    "output.release()\n",
    "cv.destroyAllWindows()"
   ]
  },
  {
   "cell_type": "code",
   "execution_count": null,
   "id": "fcb58b59",
   "metadata": {
    "id": "fcb58b59"
   },
   "outputs": [],
   "source": [
    "camera=\"http://192.168.35.4:8080/video\"\n",
    "#connect laptop and android devic with same network either wifi\n",
    "cap=cv.VideoCapture(0)\n",
    "cap.open(camera)\n",
    "fourcc=cv.VideoWriter_fourcc(*\"XVID\")\n",
    "output=cv.VideoWriter(\"output.avi\",fourcc,20.0,(640,480),0)\n",
    "\n",
    "\n",
    "while (cap.isOpened()):\n",
    "    ret,frame=cap.read()\n",
    "   \n",
    "    \n",
    "    \n",
    "    if ret == True:\n",
    "        \n",
    "        frame=cv.resize(frame,(800,800))\n",
    "        \n",
    "        cv.imshow(\"real\",frame)\n",
    "        k= cv.waitKey(10) & 0xFF\n",
    "        if k==27:\n",
    "            break\n",
    "cap.release()\n",
    "output.release()\n",
    "cv.destroyAllWindows()"
   ]
  },
  {
   "cell_type": "code",
   "execution_count": null,
   "id": "28c148ff",
   "metadata": {
    "colab": {
     "base_uri": "https://localhost:8080/",
     "height": 356
    },
    "id": "28c148ff",
    "outputId": "2a67bc5d-47a8-4de4-c780-635a5cbf22c5"
   },
   "outputs": [],
   "source": [
    "img=cv.imread(r\"C:\\Users\\gauta\\Pictures\\updated.jpg\",0)\n",
    "_,th2=cv.threshold(img,80,100,cv.THRESH_BINARY)\n",
    "cv_imshow(th2)\n",
    "# cv.imshow(\"image\",img)\n",
    "# cv.show()\n",
    "cv.waitKey(0)\n",
    "\n",
    "\n",
    "cv.destroyAllWindows()"
   ]
  },
  {
   "cell_type": "code",
   "execution_count": null,
   "id": "6843a127",
   "metadata": {
    "id": "6843a127"
   },
   "outputs": [],
   "source": [
    "img=cv.imread(r\"C:\\Users\\gauta\\Downloads\\thor-desktop-hd-black-5mjwntdzvucdvcs0.jpg\")\n",
    "img2=cv2.imread(r\"C:\\Users\\gauta\\Pictures\\updated.jpg\")\n",
    "img=cv.resize(img,(1600,800))\n",
    "img2=cv.resize(img2,(800,800))\n",
    "\n",
    "#want to fix image2 in image1\n",
    "r,c,ch=img2.shape\n",
    "\n",
    "#roi ==\n",
    "roi=img[0:r,0:c]\n",
    "\n",
    "\n",
    "img_gry2=cv.cvtColor(img2,cv.COLOR_BGR2GRAY)\n",
    "\n",
    "#creating mask using thrshold\n",
    "_,mask=cv.threshold(img_gry2,50,255,cv.THRESH_BINARY)\n",
    "\n",
    "#remove bg\n",
    "mask_inv=cv.bitwise_not(mask)\n",
    "\n",
    "#put mask into roi\n",
    "img1_bg=cv.bitwise_and(roi,roi,mask=mask_inv)\n",
    "\n",
    "\n",
    "#take only region of figure from original image\n",
    "img2_fg=cv.bitwise_and(img2,img2,mask=mask)\n",
    "\n",
    "#put img in ROI and modify the main image\n",
    "res=cv.add(img1_bg,img2_fg)\n",
    "\n",
    "\n",
    "cv.imshow(\"Step--5-mask_fg\",img2_fg)\n",
    "cv.imshow(\"Step--1-gray\",img_gry2)\n",
    "cv.imshow(\"Step--2-mask\",mask)\n",
    "cv.imshow(\"Step--3-mask_inv\",mask_inv)\n",
    "cv.imshow(\"Step--4roi\",img1_bg)\n",
    "\n",
    "cv.imshow(\"final\",res)\n",
    "cv.waitKey(0)\n",
    "cv.destroyAllWindows()"
   ]
  },
  {
   "cell_type": "code",
   "execution_count": null,
   "id": "bf603f4c",
   "metadata": {
    "id": "bf603f4c"
   },
   "outputs": [],
   "source": [
    "img1=cv2.imread(r\"C:\\Users\\gauta\\Downloads\\thor-desktop-hd-black-5mjwntdzvucdvcs0.jpg\")\n",
    "img2=cv2.imread(r\"C:\\Users\\gauta\\Pictures\\updated.jpg\")\n",
    "img3=cv2.imread(r\"C:\\Users\\gauta\\Downloads\\10846278.jpg\")\n",
    "img1=cv2.resize(img1,(1500,650))\n",
    "img2=cv2.resize(img2,(400,650))\n",
    "img3=cv2.resize(img3,(400,650))\n",
    "\n",
    "\n",
    "\n",
    "#I want to fix img2 data into img1\n",
    "r,c,ch = img2.shape\n",
    "r2,c2,ch2=img3.shape\n",
    "#here first(y,x)\n",
    "roi = img1[0:r,0:c]\n",
    "roi2=img1[0:r,c:c+c2]\n",
    "\n",
    "\n",
    "#NOw creating mask for img1\n",
    "img_gry = cv2.cvtColor(img2,cv2.COLOR_BGR2GRAY)\n",
    "img_gry2 = cv2.cvtColor(img3,cv2.COLOR_BGR2GRAY)\n",
    "\n",
    "#create mask using threshold\n",
    "_, mask = cv2.threshold(img_gry,40, 255, cv2.THRESH_BINARY)\n",
    "_, mask2 = cv2.threshold(img_gry2,10, 255, cv2.THRESH_BINARY)\n",
    "\n",
    "\n",
    "#remove bg\n",
    "mask_inv= cv2.bitwise_not(mask)\n",
    "mask_inv2= cv2.bitwise_not(mask2)\n",
    "\n",
    "\n",
    "#put mask into roi\n",
    "img1_bg = cv2.bitwise_and(roi,roi,mask = mask_inv)\n",
    "img2_bg = cv2.bitwise_and(roi2,roi2,mask = mask_inv2)\n",
    "\n",
    "\n",
    "# Take only region of figure from original  image.\n",
    "img2_fg = cv2.bitwise_and(img2,img2,mask = mask)\n",
    "img3_fg = cv2.bitwise_and(img3,img3,mask = mask2)\n",
    "\n",
    "\n",
    "# Put logo in ROI and modify the main image\n",
    "res1 = cv2.add(img1_bg,img2_fg)\n",
    "res2=cv2.add(img2_bg,img3_fg)\n",
    "\n",
    "\n",
    "final = img1\n",
    "\n",
    "final[0:r,0:c]= res1   #final output\n",
    "final[0:r,c:c+c2]=res2\n",
    "# cv2.imshow(\"Thor\",img1)\n",
    "# cv2.imshow(\"Strom breaker\",img2)\n",
    "# cv2.imshow(\" Step -1 gry==\",img_gry)\n",
    "# cv2.imshow(\"Step -2 Mask===\",mask)\n",
    "# cv2.imshow(\"Step -3 Mask_inv\",mask_inv)\n",
    "# cv2.imshow(\"Step -4 Mask_bg\",img1_bg)\n",
    "# cv2.imshow(\"Step -5 Mask fg\",img2_fg)\n",
    "# cv2.imshow(\"Step -6 -Res\",res)\n",
    "# cv2.imshow(\"Step 7== FInal\",final)\n",
    "cv2.imshow(\"Step \",final)\n",
    "cv2.waitKey(0)\n",
    "cv2.destroyAllWindows()"
   ]
  },
  {
   "cell_type": "code",
   "execution_count": null,
   "id": "62c8ffc8",
   "metadata": {},
   "outputs": [],
   "source": [
    "img1=cv2.imread(r\"C:\\Users\\gauta\\Downloads\\thor-desktop-hd-black-5mjwntdzvucdvcs0.jpg\")\n",
    "img2=cv2.imread(r\"C:\\Users\\gauta\\Pictures\\updated.jpg\")\n",
    "img3=cv2.imread(r\"C:\\Users\\gauta\\Downloads\\10846278.jpg\")\n",
    "img1=cv2.resize(img1,(1500,650))\n",
    "img2=cv2.resize(img2,(400,650))\n",
    "img3=cv2.resize(img3,(400,650))\n",
    "\n",
    "\n",
    "\n",
    "r,c,ch=img2.shape\n",
    "print(r,c,ch)\n",
    "roi=img1[0:r,c:c+c]\n",
    "\n",
    "\n",
    "\n",
    "cv2.imshow(\"img2\",img2)\n",
    "cv2.imshow(\"img3\",img3)\n",
    "cv2.imshow(\"roi\",roi)\n",
    "cv2.waitKey(0)\n",
    "cv2.destroyAllWindows()"
   ]
  },
  {
   "cell_type": "code",
   "execution_count": null,
   "id": "e4dbe937",
   "metadata": {},
   "outputs": [],
   "source": []
  },
  {
   "cell_type": "code",
   "execution_count": null,
   "id": "b7c87a1a",
   "metadata": {},
   "outputs": [],
   "source": [
    "def cross(x):\n",
    "    pass\n",
    "cv.namedWindow(\"image\")\n",
    "img=np.zeros([1000,600,3],np.uint8)\n",
    "img=cv.resize(img,(400,200))\n",
    "\n",
    "s1=\"0:OFF\\n1:ON\"\n",
    "\n",
    "cv.createTrackbar(s1,\"image\",0,1,cross)\n",
    "cv.createTrackbar(\"LH\",\"image\",0,255,cross)\n",
    "cv.createTrackbar(\"LS\",\"image\",0,255,cross)\n",
    "cv.createTrackbar(\"LV\",\"image\",0,255,cross)\n",
    "\n",
    "cv.createTrackbar(\"UH\",\"image\",255,255,cross)\n",
    "cv.createTrackbar(\"US\",\"image\",255,255,cross)\n",
    "cv.createTrackbar(\"UV\",\"image\",255,255,cross)\n",
    "\n",
    "img1=cv.imread(r\"C:\\Users\\gauta\\Pictures\\updated.jpg\",1)\n",
    "img1=cv.resize(img1,(500,600))\n",
    "while True:\n",
    "    hsv=cv.cvtColor(img1,cv.COLOR_BGR2HSV)\n",
    "    s=cv.getTrackbarPos(s1,\"image\")\n",
    "    lh=cv.getTrackbarPos(\"LH\",\"image\")\n",
    "    ls=cv.getTrackbarPos(\"LS\",\"image\")\n",
    "    lv=cv.getTrackbarPos(\"LV\",\"image\")\n",
    "    \n",
    "    uh=cv.getTrackbarPos(\"UH\",\"image\")\n",
    "    us=cv.getTrackbarPos(\"US\",\"image\")\n",
    "    uv=cv.getTrackbarPos(\"UV\",\"image\")\n",
    "    \n",
    "    \n",
    "    u_v=np.array([uh,us,uv])\n",
    "    l_v=np.array([lh,ls,lv])\n",
    "    mask=cv.inRange(hsv,l_v,u_v)\n",
    "    \n",
    "    if s==0:\n",
    "        img[:]=0\n",
    "    if s==1:\n",
    "        \n",
    "        cv.imshow(\"hsv\",cv.bitwise_and(img1,img1,mask=mask))\n",
    "        cv.imshow(\"mask\",mask)\n",
    "        \n",
    "   \n",
    "    cv.imshow(\"real\",img1)\n",
    "    \n",
    "    k= cv.waitKey(10) & 0xFF\n",
    "    if k==27:\n",
    "        break\n",
    "# cv.waitKey(0)\n",
    "cv.destroyAllWindows()"
   ]
  },
  {
   "cell_type": "code",
   "execution_count": null,
   "id": "ce18dde6",
   "metadata": {},
   "outputs": [],
   "source": [
    "def cross(x):\n",
    "    pass\n",
    "img=cv.imread(r\"C:\\Users\\gauta\\Pictures\\updated.jpg\")\n",
    "img=cv.resize(img,(500,650))\n",
    "\n",
    "img_gry=cv.cvtColor(img,cv.COLOR_BGR2GRAY)\n",
    "\n",
    "\n",
    "\n",
    "_, mask = cv.threshold(img_gry,110, 250, cv.THRESH_BINARY_INV)\n",
    "    \n",
    "mask_inv= cv.bitwise_not(mask)\n",
    "img1_bg = cv.bitwise_and(img_gry,img_gry,mask = mask_inv)\n",
    "img2_fg = cv.bitwise_and(img,img,mask = mask)\n",
    "cv.imshow(\"Strom breaker\",img)\n",
    "cv.imshow(\" Step -1 gry==\",img_gry)\n",
    "cv.imshow(\"image\",mask)\n",
    "cv.imshow(\"Step -4 Mask_bg\",img1_bg)\n",
    "cv.imshow(\"Step -5 Mask fg\",img2_fg)\n",
    "cv.waitKey(0)\n",
    "cv.destroyAllWindows()"
   ]
  },
  {
   "cell_type": "code",
   "execution_count": null,
   "id": "50ba27b8",
   "metadata": {},
   "outputs": [],
   "source": [
    "!pip install tracker"
   ]
  },
  {
   "cell_type": "code",
   "execution_count": null,
   "id": "1534e14b",
   "metadata": {},
   "outputs": [],
   "source": [
    "pip install opencv-contrib-python"
   ]
  },
  {
   "cell_type": "code",
   "execution_count": null,
   "id": "b5bf2005",
   "metadata": {},
   "outputs": [],
   "source": [
    "from itertools import zip_longest"
   ]
  },
  {
   "cell_type": "code",
   "execution_count": 3,
   "id": "e6952ee1",
   "metadata": {},
   "outputs": [],
   "source": [
    "import math\n",
    "class EuclideanDistTracker:\n",
    "    def __init__(self):\n",
    "        # Storing the positions of center of the objects\n",
    "        self.center_points = {}\n",
    "        # Count of ID of boundng boxes\n",
    "        # each time new object will be captured the id will be increassed by 1\n",
    "        self.id_count = 0\n",
    "    def update(self, objects_rect):\n",
    "        objects_bbs_ids = []\n",
    "        # Calculating the center of objects\n",
    "        for rect in objects_rect:\n",
    "            x, y, w, h = rect\n",
    "            center_x = (x + x + w) // 2\n",
    "            center_y = (y + y + h) // 2\n",
    "            # Find if object is already detected or not\n",
    "            same_object_detected = False\n",
    "            for id, pt in self.center_points.items():\n",
    "                dist = math.hypot(center_x - pt[0], center_y - pt[1])\n",
    "                if dist < 25:\n",
    "                    self.center_points[id] = (center_x, center_y)\n",
    "                    print(self.center_points)\n",
    "                    objects_bbs_ids.append([x, y, w, h, id])     \n",
    "                    same_object_detected = True\n",
    "                    break\n",
    "           # Assign the ID to the detected object\n",
    "            if same_object_detected is False:\n",
    "                   self.center_points[self.id_count] = (center_x, center_y)                      \n",
    "                   objects_bbs_ids.append([x, y, w, h, self.id_count])       \n",
    "                   self.id_count += 1\n",
    "        # Cleaning the dictionary ids that are not used anymore\n",
    "        new_center_points = {}\n",
    "        for obj_bb_id in objects_bbs_ids:\n",
    "            var,var,var,var, object_id = obj_bb_id\n",
    "            center = self.center_points[object_id]\n",
    "            new_center_points[object_id] = center\n",
    "       # Updating the dictionary with IDs that is not used\n",
    "        self.center_points = new_center_points.copy()\n",
    "        return objects_bbs_ids"
   ]
  },
  {
   "cell_type": "code",
   "execution_count": 4,
   "id": "e32ef074",
   "metadata": {},
   "outputs": [
    {
     "name": "stdout",
     "output_type": "stream",
     "text": [
      "{0: (738, 310)}\n",
      "{0: (732, 310)}\n",
      "{0: (727, 335)}\n",
      "{0: (722, 335)}\n",
      "{0: (664, 320)}\n",
      "{0: (659, 308)}\n"
     ]
    }
   ],
   "source": [
    "cap=cv2.VideoCapture(r\"C:\\Users\\gauta\\Downloads\\vtest.avi\")\n",
    "ret,frame1=cap.read()\n",
    "ret,frame2=cap.read()\n",
    "while cap.isOpened():\n",
    "   \n",
    "    diff=cv.absdiff(frame1,frame2)\n",
    "    gray=cv.cvtColor(diff,cv2.COLOR_BGR2GRAY)\n",
    "    edges = cv.Canny(gray,100,200)\n",
    "    blur=cv2.GaussianBlur(edges,(5,5),0)\n",
    "    _,thresh=cv2.threshold(blur,50,255,cv2.THRESH_BINARY+cv2.THRESH_OTSU)\n",
    "    dilated1=cv.morphologyEx(thresh, cv.MORPH_CLOSE, kernel=None)\n",
    "#     dilated1=cv2.erode(thresh,None,iterations=1)\n",
    "    dilated=cv2.dilate(dilated1,None,iterations=2)\n",
    "    contours,_=cv2.findContours(dilated,cv2.RETR_TREE,cv2.CHAIN_APPROX_SIMPLE)\n",
    "    \n",
    "    \n",
    "    # Create tracker object\n",
    "    tracker = EuclideanDistTracker()\n",
    "    detections=[]\n",
    "    area1=[]\n",
    "    for contour in contours:\n",
    "        area=cv.contourArea(contour)\n",
    "        area1.append(area)\n",
    "        \n",
    "        epsilon=.00002*cv2.arcLength(contour,True)\n",
    "        data=cv2.approxPolyDP(contour,epsilon,True)\n",
    "        \n",
    "        hull=cv2.convexHull(data)\n",
    "        \n",
    "        (x,y,w,h)=cv2.boundingRect(hull) # x and y cordinate width and height\n",
    "        \n",
    "        if h/w<1.2 or cv2.contourArea(contour)<700 :\n",
    "            continue\n",
    "#         cv2.drawContours(frame1,[contour],-1,(0,255,0),2)\n",
    "            \n",
    "        detections.append([x,y,w,h])\n",
    "    boxes_ids=tracker.update(detections)   \n",
    "    \n",
    "    for box_id in boxes_ids:\n",
    "        \n",
    "        x, y, w, h, id = box_id\n",
    "        \n",
    "        cv2.putText(frame1, str(id), (x, y - 15), cv2.FONT_HERSHEY_PLAIN, 2, (255, 0, 0), 2)\n",
    "        cv2.putText(frame1,\"Status:{}\".format(len(boxes_ids)),(10,20),cv2.FONT_HERSHEY_SIMPLEX,1,(0,255,0),3)\n",
    "        cv2.rectangle(frame1, (x, y), (x + w, y + h), (0, 255, 0), 3)\n",
    "        \n",
    "            \n",
    "    cv2.imshow(\"feed\",frame1)\n",
    "    cv2.imshow(\"gray\",gray)\n",
    "    cv2.imshow(\"blur\",blur)\n",
    "    cv2.imshow(\"dilated\",dilated)\n",
    "    cv2.imshow(\"edges\",edges)\n",
    "    \n",
    "    frame1=frame2\n",
    "    \n",
    "    ret,frame2=cap.read()\n",
    "    k= cv.waitKey(50) & 0xFF\n",
    "    if k==27:\n",
    "        break\n",
    "    \n",
    "\n",
    "cv.waitKey(0)\n",
    "cv.destroyAllWindows()"
   ]
  },
  {
   "cell_type": "code",
   "execution_count": 21,
   "id": "b0112f5a",
   "metadata": {},
   "outputs": [],
   "source": [
    "cap=cv2.VideoCapture(r\"C:\\Users\\gauta\\Downloads\\vtest.avi\")\n",
    "while cap.isOpened():\n",
    "    ret,frame=cap.read()\n",
    "    \n",
    "    cv2.imshow(\"feed\",frame)\n",
    "    k= cv.waitKey(130) & 0xFF\n",
    "    if k==27:\n",
    "        break\n",
    "cap.release()\n",
    "cv.destroyAllWindows()"
   ]
  },
  {
   "cell_type": "code",
   "execution_count": 6,
   "id": "b968ca87",
   "metadata": {},
   "outputs": [],
   "source": [
    "_,thresh=cv2.threshold(blur,50,255,cv2.THRESH_BINARY+cv2.THRESH_OTSU)\n",
    "    kernel = np.ones((1,1),np.uint8)# 1x1 kernel with full of ones. \n",
    "#     e = cv2.erode(thresh,kernel) #optional parameters   iterations = 2\n",
    "    dilated=cv.morphologyEx(thresh, cv.MORPH_CLOSE, kernel)\n",
    "#     dilated=cv.dilate(thresh,kernel,iterations = 1)"
   ]
  },
  {
   "cell_type": "code",
   "execution_count": null,
   "id": "7b59d850",
   "metadata": {},
   "outputs": [],
   "source": [
    "img=cv.imread(r\"C:\\Users\\gauta\\Downloads\\palm.jpg\",1)\n",
    "img=cv.resize(img,(500,600))\n",
    "\n",
    "img1 = cv2.cvtColor(img,cv2.COLOR_BGR2GRAY)\n",
    "blur = cv2.medianBlur(img1,11)\n",
    "\n",
    "ret,thresh = cv2.threshold(blur,228,230,cv2.THRESH_BINARY_INV)\n",
    "# dilata = cv2.dilate(thresh,(5,5),iterations = 10)\n",
    "dilata=cv.morphologyEx(thresh, cv.MORPH_CLOSE, kernel=None)\n",
    "cnts,hier = cv2.findContours(dilata,cv2.RETR_EXTERNAL,cv2.CHAIN_APPROX_SIMPLE)\n",
    "hulls=0\n",
    "cv2.drawContours(img, [cnts[0]], -1, (50, 50, 150), 2)\n",
    "# cv2.imshow(\"original===\",img)\n",
    "for c in cnts:\n",
    "    area=cv.contourArea(c)\n",
    "    epsilon = 0.001*cv2.arcLength(c,True)\n",
    "    data= cv2.approxPolyDP(c,epsilon,True)\n",
    "    \n",
    "    hull = cv2.convexHull(data)\n",
    "    \n",
    "    \n",
    "    \n",
    "    if cv2.contourArea(c)<1800:\n",
    "        continue\n",
    "    hulls+=1\n",
    "    cv2.drawContours(img, [c], -1, (50, 50, 150), 2)\n",
    "    cv2.drawContours(img, [hull], -1, (0, 255, 0), 2)\n",
    "\n",
    "# print(hulls)\n",
    "hull2 =cv2.convexHull(cnts[0],returnPoints = False)\n",
    "# print(hull2)\n",
    "defect = cv2.convexityDefects(cnts[0],hull2)\n",
    "# print(defect)\n",
    "for i in range(defect.shape[0]):\n",
    "    s,e,f,d = defect[i,0]\n",
    "#     print(s,e,f,d)\n",
    "    start = tuple(c[s][0])\n",
    "    end = tuple(c[e][0])\n",
    "    far = tuple(c[f][0])\n",
    "#     cv2.line(img,start,end,[255,0,0],2)\n",
    "    cv2.circle(img,far,5,[0,0,255],-1)\n",
    "\n",
    "    \n",
    "c_max = max(cnts, key=cv2.contourArea)  # iske andr jo max contour vala hai uske saare chhote points aajaynge jinko jodke pura ek contour bnega\n",
    "\n",
    "\n",
    "######## ---------YE valaa part smjhna hai kaise aaaaya\n",
    "# determine the most extreme points along the contour\n",
    "extLeft = tuple(c_max[c_max[:, :, 0].argmin()][0]) #tuple mein isliye use kra hai taki easily us ekr payein\n",
    "extRight = tuple(c_max[c_max[:, :, 0].argmax()][0])\n",
    "extTop = tuple(c_max[c_max[:, :, 1].argmin()][0])\n",
    "extBot = tuple(c_max[c_max[:, :, 1].argmax()][0])\n",
    "# print(extLeft)\n",
    "# draw the outline of the object, then draw each of the\n",
    "# extreme points, where the left-most is red, right-most\n",
    "# is green, top-most is blue, and bottom-most is teal\n",
    "\n",
    "cv2.circle(img, extLeft, 8, (255, 0, 255), -1)  #pink\n",
    "cv2.circle(img, extRight, 8, (0, 125, 255), -1) #brown\n",
    "cv2.circle(img, extTop, 8, (255, 10, 0), -1)  #blue\n",
    "cv2.circle(img, extBot, 8, (19, 152, 152), -1) #green\n",
    "\n",
    "\n",
    "cv2.imshow(\"original===\",img)\n",
    "cv2.imshow(\"gray==\",img1)\n",
    "cv2.imshow(\"thresh==\",thresh)\n",
    "\n",
    "cv2.waitKey(0)"
   ]
  },
  {
   "cell_type": "code",
   "execution_count": 3,
   "id": "41025188",
   "metadata": {},
   "outputs": [
    {
     "name": "stdout",
     "output_type": "stream",
     "text": [
      "[1659] [935]\n",
      "i=== (1659, 935)\n",
      "number of iterations== 1\n",
      "0.5758464336395264\n"
     ]
    }
   ],
   "source": [
    "import cv2\n",
    "import numpy as np\n",
    "import time \n",
    "\n",
    "strating=time.time()\n",
    "\n",
    "img = cv2.imread(r\"C:\\Users\\gauta\\Pictures\\updated.jpg\")\n",
    "\n",
    "grey_img = cv2.cvtColor(img, cv2.COLOR_BGR2GRAY)\n",
    "template = cv2.imread(r\"C:\\Users\\gauta\\Pictures\\face.jpg\", 0)\n",
    "# print(template.shape)\n",
    "w, h = template.shape[::-1]\n",
    "\n",
    "\n",
    "# print(w)\n",
    "\n",
    "\n",
    "#this function accept prameters (img,template,method)\n",
    "res = cv2.matchTemplate(grey_img, template, cv2.TM_CCORR_NORMED)   # template ko original image mein match kraya jha p mile us jgh ko jada luminous kr\n",
    "# print(\"res==\",res)\n",
    "# print(res.max())\n",
    "threshold = res.max()-0.00001\n",
    "loc = np.where(res >= threshold)  #find brightest point\n",
    "# print(\"bright pixels==\",loc)\n",
    "count = 0\n",
    "\n",
    "\"\"\"other method to use threshold=minmaxloc(res) which will return 4 values \n",
    "then get coordinates from x1=threshold[3] then use x1\"\"\"\n",
    "print(*loc[::-1]) # separate out the items which are inside the tuple as a separate list\n",
    "for i in zip(*loc[::-1]):\n",
    "    print(\"i===\",i)\n",
    "    cv2.rectangle(img, i, (i[0] + w, i[1] + h), (0, 0, 255), 5)\n",
    "    count+=1\n",
    "print(\"number of iterations==\",count)\n",
    "img = cv2.resize(img,(800,600))\n",
    "res = cv2.resize(res,(800,600))\n",
    "cv2.imshow(\"img\", img)\n",
    "cv2.imshow(\"match temp==\",res)\n",
    "print(time.time()-strating)\n",
    "cv2.waitKey(0)\n",
    "cv2.destroyAllWindows()\n"
   ]
  },
  {
   "cell_type": "code",
   "execution_count": 42,
   "id": "88429722",
   "metadata": {},
   "outputs": [
    {
     "name": "stdout",
     "output_type": "stream",
     "text": [
      "2023-04-06 04:49:41.593170\n"
     ]
    }
   ],
   "source": [
    "from datetime import datetime\n",
    "\n",
    "now = datetime.now()\n",
    "print(now)"
   ]
  },
  {
   "cell_type": "code",
   "execution_count": 2,
   "id": "ba366469",
   "metadata": {},
   "outputs": [
    {
     "name": "stdout",
     "output_type": "stream",
     "text": [
      "[[[0.61202103 0.92202555 0.51876223 0.65057568]\n",
      "  [0.43810766 0.77405414 0.42728923 0.71789851]\n",
      "  [0.16979831 0.72829475 0.42566872 0.4598242 ]\n",
      "  [0.39522223 0.98556336 0.64184203 0.98146544]]]\n",
      "[0.61202103 0.92202555 0.51876223 0.65057568]\n",
      "[0.43810766 0.77405414 0.42728923 0.71789851]\n",
      "[0.16979831 0.72829475 0.42566872 0.4598242 ]\n"
     ]
    }
   ],
   "source": [
    "x=np.random.rand(1,4,4)\n",
    "print(x)\n",
    "print(x[0,0])\n",
    "print(x[0,1])\n",
    "print(x[0,2])"
   ]
  },
  {
   "cell_type": "code",
   "execution_count": null,
   "id": "f52dd7c8",
   "metadata": {},
   "outputs": [],
   "source": []
  }
 ],
 "metadata": {
  "colab": {
   "provenance": []
  },
  "kernelspec": {
   "display_name": "Python 3 (ipykernel)",
   "language": "python",
   "name": "python3"
  },
  "language_info": {
   "codemirror_mode": {
    "name": "ipython",
    "version": 3
   },
   "file_extension": ".py",
   "mimetype": "text/x-python",
   "name": "python",
   "nbconvert_exporter": "python",
   "pygments_lexer": "ipython3",
   "version": "3.9.13"
  }
 },
 "nbformat": 4,
 "nbformat_minor": 5
}
